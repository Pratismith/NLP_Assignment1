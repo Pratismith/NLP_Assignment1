{
 "cells": [
  {
   "cell_type": "code",
   "execution_count": null,
   "id": "4bf6397c",
   "metadata": {},
   "outputs": [],
   "source": [
    "Exercise 1.1."
   ]
  },
  {
   "cell_type": "code",
   "execution_count": null,
   "id": "9e1d78c8",
   "metadata": {},
   "outputs": [],
   "source": [
    "1. In a print statement, what happens if you leave out one of the parentheses, or both?\n",
    "Ans: If we leave out one or both of the parentheses in a print statement in a programming language such as Python,\n",
    "    we will encounter a syntax error. \n",
    "\n",
    "Example:\n"
   ]
  },
  {
   "cell_type": "code",
   "execution_count": 5,
   "id": "18d87e23",
   "metadata": {},
   "outputs": [
    {
     "ename": "SyntaxError",
     "evalue": "incomplete input (1316857924.py, line 2)",
     "output_type": "error",
     "traceback": [
      "\u001b[1;36m  Cell \u001b[1;32mIn[5], line 2\u001b[1;36m\u001b[0m\n\u001b[1;33m    \u001b[0m\n\u001b[1;37m    ^\u001b[0m\n\u001b[1;31mSyntaxError\u001b[0m\u001b[1;31m:\u001b[0m incomplete input\n"
     ]
    }
   ],
   "source": [
    "print(\"Hello, World!\"\n",
    "      "
   ]
  },
  {
   "cell_type": "code",
   "execution_count": null,
   "id": "a8f24236",
   "metadata": {},
   "outputs": [],
   "source": [
    "2. If you are trying to print a string, what happens if you leave out one of the quotation marks,\n",
    "or both?\n",
    "Ans:\n",
    "If we leave out one or both of the quotation marks while trying to print a string in a programming language such as \n",
    "Python, we will encounter a syntax error.\n"
   ]
  },
  {
   "cell_type": "code",
   "execution_count": 4,
   "id": "eb617bbe",
   "metadata": {},
   "outputs": [
    {
     "ename": "SyntaxError",
     "evalue": "unterminated string literal (detected at line 1) (1520555421.py, line 1)",
     "output_type": "error",
     "traceback": [
      "\u001b[1;36m  Cell \u001b[1;32mIn[4], line 1\u001b[1;36m\u001b[0m\n\u001b[1;33m    print(\"Hello, World!)\u001b[0m\n\u001b[1;37m          ^\u001b[0m\n\u001b[1;31mSyntaxError\u001b[0m\u001b[1;31m:\u001b[0m unterminated string literal (detected at line 1)\n"
     ]
    }
   ],
   "source": [
    "print(\"Hello, World!)"
   ]
  },
  {
   "cell_type": "code",
   "execution_count": null,
   "id": "7029b78a",
   "metadata": {},
   "outputs": [],
   "source": [
    "3)You can use a minus sign to make a negative number like -2. What happens if you put a plus\n",
    "sign before a number? What about 2++2?\n",
    "Ans: If we use a plus sign before a number it doesn't change its value; it remains positive."
   ]
  },
  {
   "cell_type": "code",
   "execution_count": null,
   "id": "8e010e68",
   "metadata": {},
   "outputs": [],
   "source": []
  },
  {
   "cell_type": "code",
   "execution_count": null,
   "id": "3a7daa05",
   "metadata": {},
   "outputs": [],
   "source": [
    "4. In math notation, leading zeros are ok, as in 09. What happens if you try this in Python?\n",
    "What about 011?\n",
    "Ans: We will get syntax error, like in the examples given below:"
   ]
  },
  {
   "cell_type": "code",
   "execution_count": 2,
   "id": "284a0518",
   "metadata": {},
   "outputs": [
    {
     "ename": "SyntaxError",
     "evalue": "leading zeros in decimal integer literals are not permitted; use an 0o prefix for octal integers (3689757961.py, line 1)",
     "output_type": "error",
     "traceback": [
      "\u001b[1;36m  Cell \u001b[1;32mIn[2], line 1\u001b[1;36m\u001b[0m\n\u001b[1;33m    print(09)\u001b[0m\n\u001b[1;37m          ^\u001b[0m\n\u001b[1;31mSyntaxError\u001b[0m\u001b[1;31m:\u001b[0m leading zeros in decimal integer literals are not permitted; use an 0o prefix for octal integers\n"
     ]
    }
   ],
   "source": [
    "print(09)"
   ]
  },
  {
   "cell_type": "code",
   "execution_count": 3,
   "id": "c05dbe08",
   "metadata": {},
   "outputs": [
    {
     "ename": "SyntaxError",
     "evalue": "leading zeros in decimal integer literals are not permitted; use an 0o prefix for octal integers (3169117683.py, line 1)",
     "output_type": "error",
     "traceback": [
      "\u001b[1;36m  Cell \u001b[1;32mIn[3], line 1\u001b[1;36m\u001b[0m\n\u001b[1;33m    print(011)\u001b[0m\n\u001b[1;37m          ^\u001b[0m\n\u001b[1;31mSyntaxError\u001b[0m\u001b[1;31m:\u001b[0m leading zeros in decimal integer literals are not permitted; use an 0o prefix for octal integers\n"
     ]
    }
   ],
   "source": [
    "print(011)"
   ]
  },
  {
   "cell_type": "code",
   "execution_count": null,
   "id": "92fcdeaa",
   "metadata": {},
   "outputs": [],
   "source": [
    "5. What happens if you have two values with no operator between them?\n",
    "Ans: If you have two values with no operator between them in a programming context, it will usually result in a syntax error.\n",
    "Example:   "
   ]
  },
  {
   "cell_type": "code",
   "execution_count": 1,
   "id": "aa9df099",
   "metadata": {},
   "outputs": [
    {
     "ename": "SyntaxError",
     "evalue": "invalid syntax (209203476.py, line 1)",
     "output_type": "error",
     "traceback": [
      "\u001b[1;36m  Cell \u001b[1;32mIn[1], line 1\u001b[1;36m\u001b[0m\n\u001b[1;33m    result = 5  10\u001b[0m\n\u001b[1;37m                ^\u001b[0m\n\u001b[1;31mSyntaxError\u001b[0m\u001b[1;31m:\u001b[0m invalid syntax\n"
     ]
    }
   ],
   "source": [
    "result = 5  10"
   ]
  },
  {
   "cell_type": "code",
   "execution_count": null,
   "id": "12db7e6f",
   "metadata": {},
   "outputs": [],
   "source": [
    "Exercise 1.2. Start the Python interpreter and use it as a calculator."
   ]
  },
  {
   "cell_type": "code",
   "execution_count": null,
   "id": "13323a8f",
   "metadata": {},
   "outputs": [],
   "source": [
    "1. How many seconds are there in 42 minutes 42 seconds?\n",
    "Ans:"
   ]
  },
  {
   "cell_type": "code",
   "execution_count": 6,
   "id": "378a379f",
   "metadata": {},
   "outputs": [
    {
     "name": "stdout",
     "output_type": "stream",
     "text": [
      "2562\n"
     ]
    }
   ],
   "source": [
    "seconds= (42*60)+42\n",
    "print(seconds)"
   ]
  },
  {
   "cell_type": "raw",
   "id": "34d1e7bc",
   "metadata": {},
   "source": [
    "2. How many miles are there in 10 kilometers? Hint: there are 1.61 kilometers in a mile\n",
    "    Ans:"
   ]
  },
  {
   "cell_type": "code",
   "execution_count": 9,
   "id": "493bfe57",
   "metadata": {},
   "outputs": [
    {
     "name": "stdout",
     "output_type": "stream",
     "text": [
      "6.211180124223602\n"
     ]
    }
   ],
   "source": [
    "#1 mile = 1.61 KM\n",
    "print(10/1.61)"
   ]
  },
  {
   "cell_type": "code",
   "execution_count": null,
   "id": "f6b08bdf",
   "metadata": {},
   "outputs": [],
   "source": [
    "3. If you run a 10 kilometer race in 42 minutes 42 seconds, what is your average pace (time per\n",
    "mile in minutes and seconds)? What is your average speed in miles per hour?\n",
    "Ans:"
   ]
  },
  {
   "cell_type": "code",
   "execution_count": 10,
   "id": "35119b31",
   "metadata": {},
   "outputs": [
    {
     "name": "stdout",
     "output_type": "stream",
     "text": [
      "Average pace (time per mile): 0 minutes 2 seconds\n",
      "Average speed (miles per hour): 22.61 mph\n"
     ]
    }
   ],
   "source": [
    "# Given data\n",
    "distance_km = 10  # distance in kilometers\n",
    "time_minutes = 42  # time in minutes\n",
    "time_seconds = 42  # additional seconds\n",
    "\n",
    "# Convert kilometers to miles\n",
    "distance_miles = distance_km / 0.621371\n",
    "\n",
    "# Convert total time to hours\n",
    "total_time_hours = (time_minutes + time_seconds / 60) / 60\n",
    "\n",
    "# Calculate average pace (time per mile)\n",
    "average_pace = total_time_hours / distance_miles\n",
    "\n",
    "# Convert average pace to minutes and seconds\n",
    "pace_minutes = int(average_pace)\n",
    "pace_seconds = int((average_pace - pace_minutes) * 60)\n",
    "\n",
    "# Calculate average speed in miles per hour\n",
    "average_speed_mph = distance_miles / total_time_hours\n",
    "\n",
    "# Output the results\n",
    "print(\"Average pace (time per mile):\", pace_minutes, \"minutes\", pace_seconds, \"seconds\")\n",
    "print(\"Average speed (miles per hour):\", round(average_speed_mph, 2), \"mph\")\n"
   ]
  }
 ],
 "metadata": {
  "kernelspec": {
   "display_name": "Python 3 (ipykernel)",
   "language": "python",
   "name": "python3"
  },
  "language_info": {
   "codemirror_mode": {
    "name": "ipython",
    "version": 3
   },
   "file_extension": ".py",
   "mimetype": "text/x-python",
   "name": "python",
   "nbconvert_exporter": "python",
   "pygments_lexer": "ipython3",
   "version": "3.11.4"
  }
 },
 "nbformat": 4,
 "nbformat_minor": 5
}
